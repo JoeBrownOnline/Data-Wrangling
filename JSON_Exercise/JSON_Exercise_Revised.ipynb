{
 "cells": [
  {
   "cell_type": "code",
   "execution_count": 1,
   "metadata": {
    "collapsed": true
   },
   "outputs": [],
   "source": [
    "%matplotlib inline\n",
    "import pandas as pd\n",
    "import numpy as np"
   ]
  },
  {
   "cell_type": "code",
   "execution_count": 2,
   "metadata": {
    "collapsed": true
   },
   "outputs": [],
   "source": [
    "#imports for Python and Pandas\n",
    "\n",
    "import json\n",
    "from pandas.io.json import json_normalize"
   ]
  },
  {
   "cell_type": "code",
   "execution_count": 3,
   "metadata": {
    "collapsed": true
   },
   "outputs": [],
   "source": [
    "#use normalize to create a Pandas dataframe out of the JSON file\n",
    "\n",
    "df = pd.read_json('world_bank_projects.json') "
   ]
  },
  {
   "cell_type": "markdown",
   "metadata": {},
   "source": [
    "# Question 1 :\n",
    "+ Find the 10 countries with most projects"
   ]
  },
  {
   "cell_type": "code",
   "execution_count": 4,
   "metadata": {},
   "outputs": [
    {
     "data": {
      "text/plain": [
       "Indonesia             19\n",
       "China                 19\n",
       "Vietnam               17\n",
       "India                 16\n",
       "Yemen, Republic of    13\n",
       "Bangladesh            12\n",
       "Nepal                 12\n",
       "Morocco               12\n",
       "Mozambique            11\n",
       "Africa                11\n",
       "Name: countryshortname, dtype: int64"
      ]
     },
     "execution_count": 4,
     "metadata": {},
     "output_type": "execute_result"
    }
   ],
   "source": [
    "#output countires with most projects, using head() to limit to top ten\n",
    "\n",
    "df.countryshortname.value_counts().head(10)"
   ]
  },
  {
   "cell_type": "code",
   "execution_count": 5,
   "metadata": {
    "collapsed": true
   },
   "outputs": [],
   "source": [
    "#create a new dataframe that excludes Africa which is not a country.\n",
    "\n",
    "df_countries = df[df.countryshortname != (\"Africa\")]"
   ]
  },
  {
   "cell_type": "markdown",
   "metadata": {},
   "source": [
    "## Answer 1"
   ]
  },
  {
   "cell_type": "code",
   "execution_count": 6,
   "metadata": {},
   "outputs": [
    {
     "name": "stdout",
     "output_type": "stream",
     "text": [
      "Top 10 Countries with Most Projects\n"
     ]
    },
    {
     "data": {
      "text/plain": [
       "China                 19\n",
       "Indonesia             19\n",
       "Vietnam               17\n",
       "India                 16\n",
       "Yemen, Republic of    13\n",
       "Bangladesh            12\n",
       "Nepal                 12\n",
       "Morocco               12\n",
       "Mozambique            11\n",
       "Brazil                 9\n",
       "Name: countryshortname, dtype: int64"
      ]
     },
     "execution_count": 6,
     "metadata": {},
     "output_type": "execute_result"
    }
   ],
   "source": [
    "print('Top 10 Countries with Most Projects')\n",
    "df_countries.countryshortname.value_counts().head(10)"
   ]
  },
  {
   "cell_type": "markdown",
   "metadata": {},
   "source": [
    "# Question 2: \n",
    "+ Find the top 10 major project themes"
   ]
  },
  {
   "cell_type": "code",
   "execution_count": 7,
   "metadata": {},
   "outputs": [
    {
     "data": {
      "text/plain": [
       "0    [{'code': '8', 'name': 'Human development'}, {...\n",
       "1    [{'code': '1', 'name': 'Economic management'},...\n",
       "2    [{'code': '5', 'name': 'Trade and integration'...\n",
       "3    [{'code': '7', 'name': 'Social dev/gender/incl...\n",
       "4    [{'code': '5', 'name': 'Trade and integration'...\n",
       "Name: mjtheme_namecode, dtype: object"
      ]
     },
     "execution_count": 7,
     "metadata": {},
     "output_type": "execute_result"
    }
   ],
   "source": [
    "#examine mjtheme_namecode and find that we have nested fields \n",
    "df.mjtheme_namecode.head()"
   ]
  },
  {
   "cell_type": "code",
   "execution_count": 8,
   "metadata": {},
   "outputs": [
    {
     "data": {
      "text/html": [
       "<div>\n",
       "<style>\n",
       "    .dataframe thead tr:only-child th {\n",
       "        text-align: right;\n",
       "    }\n",
       "\n",
       "    .dataframe thead th {\n",
       "        text-align: left;\n",
       "    }\n",
       "\n",
       "    .dataframe tbody tr th {\n",
       "        vertical-align: top;\n",
       "    }\n",
       "</style>\n",
       "<table border=\"1\" class=\"dataframe\">\n",
       "  <thead>\n",
       "    <tr style=\"text-align: right;\">\n",
       "      <th></th>\n",
       "      <th>code</th>\n",
       "      <th>name</th>\n",
       "      <th>countryshortname</th>\n",
       "      <th>id</th>\n",
       "    </tr>\n",
       "  </thead>\n",
       "  <tbody>\n",
       "    <tr>\n",
       "      <th>0</th>\n",
       "      <td>8</td>\n",
       "      <td>Human development</td>\n",
       "      <td>Ethiopia</td>\n",
       "      <td>P129828</td>\n",
       "    </tr>\n",
       "    <tr>\n",
       "      <th>1</th>\n",
       "      <td>11</td>\n",
       "      <td></td>\n",
       "      <td>Ethiopia</td>\n",
       "      <td>P129828</td>\n",
       "    </tr>\n",
       "    <tr>\n",
       "      <th>2</th>\n",
       "      <td>1</td>\n",
       "      <td>Economic management</td>\n",
       "      <td>Tunisia</td>\n",
       "      <td>P144674</td>\n",
       "    </tr>\n",
       "    <tr>\n",
       "      <th>3</th>\n",
       "      <td>6</td>\n",
       "      <td>Social protection and risk management</td>\n",
       "      <td>Tunisia</td>\n",
       "      <td>P144674</td>\n",
       "    </tr>\n",
       "    <tr>\n",
       "      <th>4</th>\n",
       "      <td>5</td>\n",
       "      <td>Trade and integration</td>\n",
       "      <td>Tuvalu</td>\n",
       "      <td>P145310</td>\n",
       "    </tr>\n",
       "    <tr>\n",
       "      <th>5</th>\n",
       "      <td>2</td>\n",
       "      <td>Public sector governance</td>\n",
       "      <td>Tuvalu</td>\n",
       "      <td>P145310</td>\n",
       "    </tr>\n",
       "    <tr>\n",
       "      <th>6</th>\n",
       "      <td>11</td>\n",
       "      <td>Environment and natural resources management</td>\n",
       "      <td>Tuvalu</td>\n",
       "      <td>P145310</td>\n",
       "    </tr>\n",
       "    <tr>\n",
       "      <th>7</th>\n",
       "      <td>6</td>\n",
       "      <td>Social protection and risk management</td>\n",
       "      <td>Tuvalu</td>\n",
       "      <td>P145310</td>\n",
       "    </tr>\n",
       "    <tr>\n",
       "      <th>8</th>\n",
       "      <td>7</td>\n",
       "      <td>Social dev/gender/inclusion</td>\n",
       "      <td>Yemen, Republic of</td>\n",
       "      <td>P144665</td>\n",
       "    </tr>\n",
       "    <tr>\n",
       "      <th>9</th>\n",
       "      <td>7</td>\n",
       "      <td>Social dev/gender/inclusion</td>\n",
       "      <td>Yemen, Republic of</td>\n",
       "      <td>P144665</td>\n",
       "    </tr>\n",
       "  </tbody>\n",
       "</table>\n",
       "</div>"
      ],
      "text/plain": [
       "  code                                          name    countryshortname  \\\n",
       "0    8                             Human development            Ethiopia   \n",
       "1   11                                                          Ethiopia   \n",
       "2    1                           Economic management             Tunisia   \n",
       "3    6         Social protection and risk management             Tunisia   \n",
       "4    5                         Trade and integration              Tuvalu   \n",
       "5    2                      Public sector governance              Tuvalu   \n",
       "6   11  Environment and natural resources management              Tuvalu   \n",
       "7    6         Social protection and risk management              Tuvalu   \n",
       "8    7                   Social dev/gender/inclusion  Yemen, Republic of   \n",
       "9    7                   Social dev/gender/inclusion  Yemen, Republic of   \n",
       "\n",
       "        id  \n",
       "0  P129828  \n",
       "1  P129828  \n",
       "2  P144674  \n",
       "3  P144674  \n",
       "4  P145310  \n",
       "5  P145310  \n",
       "6  P145310  \n",
       "7  P145310  \n",
       "8  P144665  \n",
       "9  P144665  "
      ]
     },
     "execution_count": 8,
     "metadata": {},
     "output_type": "execute_result"
    }
   ],
   "source": [
    "#load in the json file\n",
    "data = json.load((open('world_bank_projects.json')))\n",
    "# use normalize to create a dataframe of project codes and names, countries, and id's\n",
    "df_themes = json_normalize(data, 'mjtheme_namecode', ['countryshortname', 'id'])\n",
    "df_themes.head(10)"
   ]
  },
  {
   "cell_type": "code",
   "execution_count": 9,
   "metadata": {},
   "outputs": [
    {
     "data": {
      "text/plain": [
       "500"
      ]
     },
     "execution_count": 9,
     "metadata": {},
     "output_type": "execute_result"
    }
   ],
   "source": [
    "len(np.unique(df_themes['id']))"
   ]
  },
  {
   "cell_type": "code",
   "execution_count": 10,
   "metadata": {},
   "outputs": [
    {
     "data": {
      "text/plain": [
       "Environment and natural resources management    223\n",
       "Rural development                               202\n",
       "Human development                               197\n",
       "Public sector governance                        184\n",
       "Social protection and risk management           158\n",
       "Financial and private sector development        130\n",
       "                                                122\n",
       "Social dev/gender/inclusion                     119\n",
       "Trade and integration                            72\n",
       "Urban development                                47\n",
       "Name: name, dtype: int64"
      ]
     },
     "execution_count": 10,
     "metadata": {},
     "output_type": "execute_result"
    }
   ],
   "source": [
    "df_themes.name.value_counts().head(10)"
   ]
  },
  {
   "cell_type": "markdown",
   "metadata": {},
   "source": [
    "Here we can see that some project id's have multiple entries for same code/name"
   ]
  },
  {
   "cell_type": "code",
   "execution_count": 11,
   "metadata": {},
   "outputs": [
    {
     "data": {
      "text/html": [
       "<div>\n",
       "<style>\n",
       "    .dataframe thead tr:only-child th {\n",
       "        text-align: right;\n",
       "    }\n",
       "\n",
       "    .dataframe thead th {\n",
       "        text-align: left;\n",
       "    }\n",
       "\n",
       "    .dataframe tbody tr th {\n",
       "        vertical-align: top;\n",
       "    }\n",
       "</style>\n",
       "<table border=\"1\" class=\"dataframe\">\n",
       "  <thead>\n",
       "    <tr style=\"text-align: right;\">\n",
       "      <th></th>\n",
       "      <th>code</th>\n",
       "      <th>name</th>\n",
       "      <th>countryshortname</th>\n",
       "      <th>id</th>\n",
       "    </tr>\n",
       "  </thead>\n",
       "  <tbody>\n",
       "    <tr>\n",
       "      <th>0</th>\n",
       "      <td>8</td>\n",
       "      <td>Human development</td>\n",
       "      <td>Ethiopia</td>\n",
       "      <td>P129828</td>\n",
       "    </tr>\n",
       "    <tr>\n",
       "      <th>1</th>\n",
       "      <td>11</td>\n",
       "      <td></td>\n",
       "      <td>Ethiopia</td>\n",
       "      <td>P129828</td>\n",
       "    </tr>\n",
       "    <tr>\n",
       "      <th>2</th>\n",
       "      <td>1</td>\n",
       "      <td>Economic management</td>\n",
       "      <td>Tunisia</td>\n",
       "      <td>P144674</td>\n",
       "    </tr>\n",
       "    <tr>\n",
       "      <th>3</th>\n",
       "      <td>6</td>\n",
       "      <td>Social protection and risk management</td>\n",
       "      <td>Tunisia</td>\n",
       "      <td>P144674</td>\n",
       "    </tr>\n",
       "    <tr>\n",
       "      <th>4</th>\n",
       "      <td>5</td>\n",
       "      <td>Trade and integration</td>\n",
       "      <td>Tuvalu</td>\n",
       "      <td>P145310</td>\n",
       "    </tr>\n",
       "    <tr>\n",
       "      <th>5</th>\n",
       "      <td>2</td>\n",
       "      <td>Public sector governance</td>\n",
       "      <td>Tuvalu</td>\n",
       "      <td>P145310</td>\n",
       "    </tr>\n",
       "    <tr>\n",
       "      <th>6</th>\n",
       "      <td>11</td>\n",
       "      <td>Environment and natural resources management</td>\n",
       "      <td>Tuvalu</td>\n",
       "      <td>P145310</td>\n",
       "    </tr>\n",
       "    <tr>\n",
       "      <th>7</th>\n",
       "      <td>6</td>\n",
       "      <td>Social protection and risk management</td>\n",
       "      <td>Tuvalu</td>\n",
       "      <td>P145310</td>\n",
       "    </tr>\n",
       "    <tr>\n",
       "      <th>8</th>\n",
       "      <td>7</td>\n",
       "      <td>Social dev/gender/inclusion</td>\n",
       "      <td>Yemen, Republic of</td>\n",
       "      <td>P144665</td>\n",
       "    </tr>\n",
       "    <tr>\n",
       "      <th>10</th>\n",
       "      <td>5</td>\n",
       "      <td>Trade and integration</td>\n",
       "      <td>Lesotho</td>\n",
       "      <td>P144933</td>\n",
       "    </tr>\n",
       "  </tbody>\n",
       "</table>\n",
       "</div>"
      ],
      "text/plain": [
       "   code                                          name    countryshortname  \\\n",
       "0     8                             Human development            Ethiopia   \n",
       "1    11                                                          Ethiopia   \n",
       "2     1                           Economic management             Tunisia   \n",
       "3     6         Social protection and risk management             Tunisia   \n",
       "4     5                         Trade and integration              Tuvalu   \n",
       "5     2                      Public sector governance              Tuvalu   \n",
       "6    11  Environment and natural resources management              Tuvalu   \n",
       "7     6         Social protection and risk management              Tuvalu   \n",
       "8     7                   Social dev/gender/inclusion  Yemen, Republic of   \n",
       "10    5                         Trade and integration             Lesotho   \n",
       "\n",
       "         id  \n",
       "0   P129828  \n",
       "1   P129828  \n",
       "2   P144674  \n",
       "3   P144674  \n",
       "4   P145310  \n",
       "5   P145310  \n",
       "6   P145310  \n",
       "7   P145310  \n",
       "8   P144665  \n",
       "10  P144933  "
      ]
     },
     "execution_count": 11,
     "metadata": {},
     "output_type": "execute_result"
    }
   ],
   "source": [
    "#remove duplicates where the same code appears more than once in any project\n",
    "df_themes = df_themes.drop_duplicates(['id', 'code'], keep='first')\n",
    "df_themes.head(10)"
   ]
  },
  {
   "cell_type": "code",
   "execution_count": 12,
   "metadata": {},
   "outputs": [
    {
     "data": {
      "text/plain": [
       "Environment and natural resources management    135\n",
       "Rural development                               135\n",
       "Public sector governance                        126\n",
       "Human development                               118\n",
       "Social protection and risk management           110\n",
       "                                                107\n",
       "Financial and private sector development        104\n",
       "Social dev/gender/inclusion                     103\n",
       "Trade and integration                            56\n",
       "Urban development                                37\n",
       "Name: name, dtype: int64"
      ]
     },
     "execution_count": 12,
     "metadata": {},
     "output_type": "execute_result"
    }
   ],
   "source": [
    "#output top ten themes\n",
    "df_themes.name.value_counts().head(10)"
   ]
  },
  {
   "cell_type": "markdown",
   "metadata": {},
   "source": [
    "## Answer 2"
   ]
  },
  {
   "cell_type": "code",
   "execution_count": 13,
   "metadata": {},
   "outputs": [
    {
     "name": "stdout",
     "output_type": "stream",
     "text": [
      "Top 10 Major Project Themes\n"
     ]
    },
    {
     "data": {
      "text/plain": [
       "Environment and natural resources management    135\n",
       "Rural development                               135\n",
       "Public sector governance                        126\n",
       "Human development                               118\n",
       "Social protection and risk management           110\n",
       "                                                107\n",
       "Financial and private sector development        104\n",
       "Social dev/gender/inclusion                     103\n",
       "Trade and integration                            56\n",
       "Urban development                                37\n",
       "Economic management                              28\n",
       "Name: name, dtype: int64"
      ]
     },
     "execution_count": 13,
     "metadata": {},
     "output_type": "execute_result"
    }
   ],
   "source": [
    "print('Top 10 Major Project Themes')\n",
    "df_themes.name.value_counts().head(11) #accounting for missing names"
   ]
  },
  {
   "cell_type": "markdown",
   "metadata": {},
   "source": [
    "We can see there are entires without names. This will be addressed in the next problem."
   ]
  },
  {
   "cell_type": "markdown",
   "metadata": {},
   "source": [
    "# Question 3: \n",
    "+ Create a new dataframe with missing project names from answer 2 filled in"
   ]
  },
  {
   "cell_type": "markdown",
   "metadata": {},
   "source": [
    "### Previous Answer - Used front fill on list to generate missing project names."
   ]
  },
  {
   "cell_type": "code",
   "execution_count": 14,
   "metadata": {},
   "outputs": [
    {
     "data": {
      "text/html": [
       "<div>\n",
       "<style>\n",
       "    .dataframe thead tr:only-child th {\n",
       "        text-align: right;\n",
       "    }\n",
       "\n",
       "    .dataframe thead th {\n",
       "        text-align: left;\n",
       "    }\n",
       "\n",
       "    .dataframe tbody tr th {\n",
       "        vertical-align: top;\n",
       "    }\n",
       "</style>\n",
       "<table border=\"1\" class=\"dataframe\">\n",
       "  <thead>\n",
       "    <tr style=\"text-align: right;\">\n",
       "      <th></th>\n",
       "      <th>name</th>\n",
       "      <th>countryshortname</th>\n",
       "      <th>id</th>\n",
       "    </tr>\n",
       "    <tr>\n",
       "      <th>code</th>\n",
       "      <th></th>\n",
       "      <th></th>\n",
       "      <th></th>\n",
       "    </tr>\n",
       "  </thead>\n",
       "  <tbody>\n",
       "    <tr>\n",
       "      <th>1</th>\n",
       "      <td>Economic management</td>\n",
       "      <td>Ukraine</td>\n",
       "      <td>P131234</td>\n",
       "    </tr>\n",
       "    <tr>\n",
       "      <th>1</th>\n",
       "      <td>Economic management</td>\n",
       "      <td>Lao People's Democratic Republic</td>\n",
       "      <td>P129825</td>\n",
       "    </tr>\n",
       "    <tr>\n",
       "      <th>1</th>\n",
       "      <td>Economic management</td>\n",
       "      <td>Seychelles</td>\n",
       "      <td>P132425</td>\n",
       "    </tr>\n",
       "    <tr>\n",
       "      <th>1</th>\n",
       "      <td>Economic management</td>\n",
       "      <td>Armenia</td>\n",
       "      <td>P132948</td>\n",
       "    </tr>\n",
       "    <tr>\n",
       "      <th>1</th>\n",
       "      <td>Economic management</td>\n",
       "      <td>Sao Tome and Principe</td>\n",
       "      <td>P130925</td>\n",
       "    </tr>\n",
       "    <tr>\n",
       "      <th>1</th>\n",
       "      <td>Economic management</td>\n",
       "      <td>Uruguay</td>\n",
       "      <td>P131440</td>\n",
       "    </tr>\n",
       "    <tr>\n",
       "      <th>1</th>\n",
       "      <td>Economic management</td>\n",
       "      <td>Poland</td>\n",
       "      <td>P130459</td>\n",
       "    </tr>\n",
       "    <tr>\n",
       "      <th>1</th>\n",
       "      <td>Economic management</td>\n",
       "      <td>Macedonia, former Yugoslav Republic of</td>\n",
       "      <td>P133791</td>\n",
       "    </tr>\n",
       "    <tr>\n",
       "      <th>1</th>\n",
       "      <td>Economic management</td>\n",
       "      <td>Pacific Islands</td>\n",
       "      <td>P133255</td>\n",
       "    </tr>\n",
       "    <tr>\n",
       "      <th>1</th>\n",
       "      <td>Economic management</td>\n",
       "      <td>Yemen, Republic of</td>\n",
       "      <td>P143819</td>\n",
       "    </tr>\n",
       "  </tbody>\n",
       "</table>\n",
       "</div>"
      ],
      "text/plain": [
       "                     name                        countryshortname       id\n",
       "code                                                                      \n",
       "1     Economic management                                 Ukraine  P131234\n",
       "1     Economic management        Lao People's Democratic Republic  P129825\n",
       "1     Economic management                              Seychelles  P132425\n",
       "1     Economic management                                 Armenia  P132948\n",
       "1     Economic management                   Sao Tome and Principe  P130925\n",
       "1     Economic management                                 Uruguay  P131440\n",
       "1     Economic management                                  Poland  P130459\n",
       "1     Economic management  Macedonia, former Yugoslav Republic of  P133791\n",
       "1     Economic management                         Pacific Islands  P133255\n",
       "1     Economic management                      Yemen, Republic of  P143819"
      ]
     },
     "execution_count": 14,
     "metadata": {},
     "output_type": "execute_result"
    }
   ],
   "source": [
    "#start by setting 'code' as our index\n",
    "code_df = df_themes.set_index(['code']).sort_index()\n",
    "code_df.head(10)"
   ]
  },
  {
   "cell_type": "code",
   "execution_count": 15,
   "metadata": {},
   "outputs": [
    {
     "data": {
      "text/html": [
       "<div>\n",
       "<style>\n",
       "    .dataframe thead tr:only-child th {\n",
       "        text-align: right;\n",
       "    }\n",
       "\n",
       "    .dataframe thead th {\n",
       "        text-align: left;\n",
       "    }\n",
       "\n",
       "    .dataframe tbody tr th {\n",
       "        vertical-align: top;\n",
       "    }\n",
       "</style>\n",
       "<table border=\"1\" class=\"dataframe\">\n",
       "  <thead>\n",
       "    <tr style=\"text-align: right;\">\n",
       "      <th></th>\n",
       "      <th>name</th>\n",
       "      <th>countryshortname</th>\n",
       "      <th>id</th>\n",
       "    </tr>\n",
       "    <tr>\n",
       "      <th>code</th>\n",
       "      <th></th>\n",
       "      <th></th>\n",
       "      <th></th>\n",
       "    </tr>\n",
       "  </thead>\n",
       "  <tbody>\n",
       "    <tr>\n",
       "      <th>1</th>\n",
       "      <td>Economic management</td>\n",
       "      <td>Ukraine</td>\n",
       "      <td>P131234</td>\n",
       "    </tr>\n",
       "    <tr>\n",
       "      <th>1</th>\n",
       "      <td>Economic management</td>\n",
       "      <td>Lao People's Democratic Republic</td>\n",
       "      <td>P129825</td>\n",
       "    </tr>\n",
       "    <tr>\n",
       "      <th>1</th>\n",
       "      <td>Economic management</td>\n",
       "      <td>Seychelles</td>\n",
       "      <td>P132425</td>\n",
       "    </tr>\n",
       "    <tr>\n",
       "      <th>1</th>\n",
       "      <td>Economic management</td>\n",
       "      <td>Armenia</td>\n",
       "      <td>P132948</td>\n",
       "    </tr>\n",
       "    <tr>\n",
       "      <th>1</th>\n",
       "      <td>Economic management</td>\n",
       "      <td>Sao Tome and Principe</td>\n",
       "      <td>P130925</td>\n",
       "    </tr>\n",
       "  </tbody>\n",
       "</table>\n",
       "</div>"
      ],
      "text/plain": [
       "                     name                  countryshortname       id\n",
       "code                                                                \n",
       "1     Economic management                           Ukraine  P131234\n",
       "1     Economic management  Lao People's Democratic Republic  P129825\n",
       "1     Economic management                        Seychelles  P132425\n",
       "1     Economic management                           Armenia  P132948\n",
       "1     Economic management             Sao Tome and Principe  P130925"
      ]
     },
     "execution_count": 15,
     "metadata": {},
     "output_type": "execute_result"
    }
   ],
   "source": [
    "#fill in the missing names using ffill\n",
    "code_df['name'] = code_df.name.replace('', method='ffill')\n",
    "code_df.head()"
   ]
  },
  {
   "cell_type": "code",
   "execution_count": 16,
   "metadata": {
    "collapsed": true
   },
   "outputs": [],
   "source": [
    "#reset index\n",
    "themes_df = code_df.reset_index()"
   ]
  },
  {
   "cell_type": "code",
   "execution_count": 17,
   "metadata": {
    "collapsed": true
   },
   "outputs": [],
   "source": [
    "#group by project name and sort to gove top ten\n",
    "top_themes = themes_df.groupby(['name']).size().sort_values(ascending=False).head(10)"
   ]
  },
  {
   "cell_type": "markdown",
   "metadata": {},
   "source": [
    "### Revised Answer - Create dataframe containg only project names and codes and merge into original dataframe"
   ]
  },
  {
   "cell_type": "code",
   "execution_count": 18,
   "metadata": {},
   "outputs": [
    {
     "data": {
      "text/html": [
       "<div>\n",
       "<style>\n",
       "    .dataframe thead tr:only-child th {\n",
       "        text-align: right;\n",
       "    }\n",
       "\n",
       "    .dataframe thead th {\n",
       "        text-align: left;\n",
       "    }\n",
       "\n",
       "    .dataframe tbody tr th {\n",
       "        vertical-align: top;\n",
       "    }\n",
       "</style>\n",
       "<table border=\"1\" class=\"dataframe\">\n",
       "  <thead>\n",
       "    <tr style=\"text-align: right;\">\n",
       "      <th></th>\n",
       "      <th>code</th>\n",
       "      <th>name</th>\n",
       "      <th>countryshortname</th>\n",
       "      <th>id</th>\n",
       "    </tr>\n",
       "  </thead>\n",
       "  <tbody>\n",
       "    <tr>\n",
       "      <th>0</th>\n",
       "      <td>8</td>\n",
       "      <td>Human development</td>\n",
       "      <td>Ethiopia</td>\n",
       "      <td>P129828</td>\n",
       "    </tr>\n",
       "    <tr>\n",
       "      <th>1</th>\n",
       "      <td>11</td>\n",
       "      <td></td>\n",
       "      <td>Ethiopia</td>\n",
       "      <td>P129828</td>\n",
       "    </tr>\n",
       "    <tr>\n",
       "      <th>2</th>\n",
       "      <td>1</td>\n",
       "      <td>Economic management</td>\n",
       "      <td>Tunisia</td>\n",
       "      <td>P144674</td>\n",
       "    </tr>\n",
       "    <tr>\n",
       "      <th>3</th>\n",
       "      <td>6</td>\n",
       "      <td>Social protection and risk management</td>\n",
       "      <td>Tunisia</td>\n",
       "      <td>P144674</td>\n",
       "    </tr>\n",
       "    <tr>\n",
       "      <th>4</th>\n",
       "      <td>5</td>\n",
       "      <td>Trade and integration</td>\n",
       "      <td>Tuvalu</td>\n",
       "      <td>P145310</td>\n",
       "    </tr>\n",
       "  </tbody>\n",
       "</table>\n",
       "</div>"
      ],
      "text/plain": [
       "  code                                   name countryshortname       id\n",
       "0    8                      Human development         Ethiopia  P129828\n",
       "1   11                                                Ethiopia  P129828\n",
       "2    1                    Economic management          Tunisia  P144674\n",
       "3    6  Social protection and risk management          Tunisia  P144674\n",
       "4    5                  Trade and integration           Tuvalu  P145310"
      ]
     },
     "execution_count": 18,
     "metadata": {},
     "output_type": "execute_result"
    }
   ],
   "source": [
    "#create copy of df_themes to use for our revised answer\n",
    "df_themes_copy = json_normalize(data, 'mjtheme_namecode', ['countryshortname', 'id'])\n",
    "df_themes_copy.head()"
   ]
  },
  {
   "cell_type": "code",
   "execution_count": 19,
   "metadata": {
    "collapsed": true
   },
   "outputs": [],
   "source": [
    "#replace the missing names with Nan\n",
    "df_themes_copy['name'] = df_themes_copy['name'].replace('', np.nan)"
   ]
  },
  {
   "cell_type": "code",
   "execution_count": 20,
   "metadata": {},
   "outputs": [
    {
     "data": {
      "text/html": [
       "<div>\n",
       "<style>\n",
       "    .dataframe thead tr:only-child th {\n",
       "        text-align: right;\n",
       "    }\n",
       "\n",
       "    .dataframe thead th {\n",
       "        text-align: left;\n",
       "    }\n",
       "\n",
       "    .dataframe tbody tr th {\n",
       "        vertical-align: top;\n",
       "    }\n",
       "</style>\n",
       "<table border=\"1\" class=\"dataframe\">\n",
       "  <thead>\n",
       "    <tr style=\"text-align: right;\">\n",
       "      <th></th>\n",
       "      <th>code</th>\n",
       "      <th>name</th>\n",
       "    </tr>\n",
       "  </thead>\n",
       "  <tbody>\n",
       "    <tr>\n",
       "      <th>0</th>\n",
       "      <td>8</td>\n",
       "      <td>Human development</td>\n",
       "    </tr>\n",
       "    <tr>\n",
       "      <th>1</th>\n",
       "      <td>11</td>\n",
       "      <td>NaN</td>\n",
       "    </tr>\n",
       "    <tr>\n",
       "      <th>2</th>\n",
       "      <td>1</td>\n",
       "      <td>Economic management</td>\n",
       "    </tr>\n",
       "    <tr>\n",
       "      <th>3</th>\n",
       "      <td>6</td>\n",
       "      <td>Social protection and risk management</td>\n",
       "    </tr>\n",
       "    <tr>\n",
       "      <th>4</th>\n",
       "      <td>5</td>\n",
       "      <td>Trade and integration</td>\n",
       "    </tr>\n",
       "    <tr>\n",
       "      <th>5</th>\n",
       "      <td>2</td>\n",
       "      <td>Public sector governance</td>\n",
       "    </tr>\n",
       "    <tr>\n",
       "      <th>6</th>\n",
       "      <td>11</td>\n",
       "      <td>Environment and natural resources management</td>\n",
       "    </tr>\n",
       "    <tr>\n",
       "      <th>7</th>\n",
       "      <td>6</td>\n",
       "      <td>Social protection and risk management</td>\n",
       "    </tr>\n",
       "    <tr>\n",
       "      <th>8</th>\n",
       "      <td>7</td>\n",
       "      <td>Social dev/gender/inclusion</td>\n",
       "    </tr>\n",
       "    <tr>\n",
       "      <th>9</th>\n",
       "      <td>7</td>\n",
       "      <td>Social dev/gender/inclusion</td>\n",
       "    </tr>\n",
       "  </tbody>\n",
       "</table>\n",
       "</div>"
      ],
      "text/plain": [
       "  code                                          name\n",
       "0    8                             Human development\n",
       "1   11                                           NaN\n",
       "2    1                           Economic management\n",
       "3    6         Social protection and risk management\n",
       "4    5                         Trade and integration\n",
       "5    2                      Public sector governance\n",
       "6   11  Environment and natural resources management\n",
       "7    6         Social protection and risk management\n",
       "8    7                   Social dev/gender/inclusion\n",
       "9    7                   Social dev/gender/inclusion"
      ]
     },
     "execution_count": 20,
     "metadata": {},
     "output_type": "execute_result"
    }
   ],
   "source": [
    "#create a dataframe consisting of code and name\n",
    "df_themes0 = df_themes_copy[['code','name']]\n",
    "df_themes0.head(10)"
   ]
  },
  {
   "cell_type": "code",
   "execution_count": 21,
   "metadata": {},
   "outputs": [
    {
     "data": {
      "text/html": [
       "<div>\n",
       "<style>\n",
       "    .dataframe thead tr:only-child th {\n",
       "        text-align: right;\n",
       "    }\n",
       "\n",
       "    .dataframe thead th {\n",
       "        text-align: left;\n",
       "    }\n",
       "\n",
       "    .dataframe tbody tr th {\n",
       "        vertical-align: top;\n",
       "    }\n",
       "</style>\n",
       "<table border=\"1\" class=\"dataframe\">\n",
       "  <thead>\n",
       "    <tr style=\"text-align: right;\">\n",
       "      <th></th>\n",
       "      <th>code</th>\n",
       "      <th>name</th>\n",
       "    </tr>\n",
       "  </thead>\n",
       "  <tbody>\n",
       "    <tr>\n",
       "      <th>0</th>\n",
       "      <td>8</td>\n",
       "      <td>Human development</td>\n",
       "    </tr>\n",
       "    <tr>\n",
       "      <th>1</th>\n",
       "      <td>11</td>\n",
       "      <td>NaN</td>\n",
       "    </tr>\n",
       "    <tr>\n",
       "      <th>2</th>\n",
       "      <td>1</td>\n",
       "      <td>Economic management</td>\n",
       "    </tr>\n",
       "    <tr>\n",
       "      <th>3</th>\n",
       "      <td>6</td>\n",
       "      <td>Social protection and risk management</td>\n",
       "    </tr>\n",
       "    <tr>\n",
       "      <th>4</th>\n",
       "      <td>5</td>\n",
       "      <td>Trade and integration</td>\n",
       "    </tr>\n",
       "    <tr>\n",
       "      <th>5</th>\n",
       "      <td>2</td>\n",
       "      <td>Public sector governance</td>\n",
       "    </tr>\n",
       "    <tr>\n",
       "      <th>6</th>\n",
       "      <td>11</td>\n",
       "      <td>Environment and natural resources management</td>\n",
       "    </tr>\n",
       "    <tr>\n",
       "      <th>8</th>\n",
       "      <td>7</td>\n",
       "      <td>Social dev/gender/inclusion</td>\n",
       "    </tr>\n",
       "    <tr>\n",
       "      <th>11</th>\n",
       "      <td>4</td>\n",
       "      <td>Financial and private sector development</td>\n",
       "    </tr>\n",
       "    <tr>\n",
       "      <th>13</th>\n",
       "      <td>6</td>\n",
       "      <td>NaN</td>\n",
       "    </tr>\n",
       "  </tbody>\n",
       "</table>\n",
       "</div>"
      ],
      "text/plain": [
       "   code                                          name\n",
       "0     8                             Human development\n",
       "1    11                                           NaN\n",
       "2     1                           Economic management\n",
       "3     6         Social protection and risk management\n",
       "4     5                         Trade and integration\n",
       "5     2                      Public sector governance\n",
       "6    11  Environment and natural resources management\n",
       "8     7                   Social dev/gender/inclusion\n",
       "11    4      Financial and private sector development\n",
       "13    6                                           NaN"
      ]
     },
     "execution_count": 21,
     "metadata": {},
     "output_type": "execute_result"
    }
   ],
   "source": [
    "#drop all duplicates\n",
    "df_themes01 = df_themes0.drop_duplicates()\n",
    "df_themes01.head(10)"
   ]
  },
  {
   "cell_type": "code",
   "execution_count": 22,
   "metadata": {},
   "outputs": [
    {
     "data": {
      "text/plain": [
       "Environment and natural resources management    1\n",
       "Economic management                             1\n",
       "Urban development                               1\n",
       "Human development                               1\n",
       "Social protection and risk management           1\n",
       "Rule of law                                     1\n",
       "Public sector governance                        1\n",
       "Trade and integration                           1\n",
       "Financial and private sector development        1\n",
       "Social dev/gender/inclusion                     1\n",
       "Rural development                               1\n",
       "Name: name, dtype: int64"
      ]
     },
     "execution_count": 22,
     "metadata": {},
     "output_type": "execute_result"
    }
   ],
   "source": [
    "#check to see if we have 1 of each project name\n",
    "df_themes01.name.value_counts()"
   ]
  },
  {
   "cell_type": "code",
   "execution_count": 23,
   "metadata": {},
   "outputs": [
    {
     "data": {
      "text/html": [
       "<div>\n",
       "<style>\n",
       "    .dataframe thead tr:only-child th {\n",
       "        text-align: right;\n",
       "    }\n",
       "\n",
       "    .dataframe thead th {\n",
       "        text-align: left;\n",
       "    }\n",
       "\n",
       "    .dataframe tbody tr th {\n",
       "        vertical-align: top;\n",
       "    }\n",
       "</style>\n",
       "<table border=\"1\" class=\"dataframe\">\n",
       "  <thead>\n",
       "    <tr style=\"text-align: right;\">\n",
       "      <th></th>\n",
       "      <th>code</th>\n",
       "      <th>name</th>\n",
       "    </tr>\n",
       "  </thead>\n",
       "  <tbody>\n",
       "    <tr>\n",
       "      <th>0</th>\n",
       "      <td>8</td>\n",
       "      <td>Human development</td>\n",
       "    </tr>\n",
       "    <tr>\n",
       "      <th>2</th>\n",
       "      <td>1</td>\n",
       "      <td>Economic management</td>\n",
       "    </tr>\n",
       "    <tr>\n",
       "      <th>3</th>\n",
       "      <td>6</td>\n",
       "      <td>Social protection and risk management</td>\n",
       "    </tr>\n",
       "    <tr>\n",
       "      <th>4</th>\n",
       "      <td>5</td>\n",
       "      <td>Trade and integration</td>\n",
       "    </tr>\n",
       "    <tr>\n",
       "      <th>5</th>\n",
       "      <td>2</td>\n",
       "      <td>Public sector governance</td>\n",
       "    </tr>\n",
       "    <tr>\n",
       "      <th>6</th>\n",
       "      <td>11</td>\n",
       "      <td>Environment and natural resources management</td>\n",
       "    </tr>\n",
       "    <tr>\n",
       "      <th>8</th>\n",
       "      <td>7</td>\n",
       "      <td>Social dev/gender/inclusion</td>\n",
       "    </tr>\n",
       "    <tr>\n",
       "      <th>11</th>\n",
       "      <td>4</td>\n",
       "      <td>Financial and private sector development</td>\n",
       "    </tr>\n",
       "    <tr>\n",
       "      <th>18</th>\n",
       "      <td>10</td>\n",
       "      <td>Rural development</td>\n",
       "    </tr>\n",
       "    <tr>\n",
       "      <th>53</th>\n",
       "      <td>9</td>\n",
       "      <td>Urban development</td>\n",
       "    </tr>\n",
       "    <tr>\n",
       "      <th>252</th>\n",
       "      <td>3</td>\n",
       "      <td>Rule of law</td>\n",
       "    </tr>\n",
       "  </tbody>\n",
       "</table>\n",
       "</div>"
      ],
      "text/plain": [
       "    code                                          name\n",
       "0      8                             Human development\n",
       "2      1                           Economic management\n",
       "3      6         Social protection and risk management\n",
       "4      5                         Trade and integration\n",
       "5      2                      Public sector governance\n",
       "6     11  Environment and natural resources management\n",
       "8      7                   Social dev/gender/inclusion\n",
       "11     4      Financial and private sector development\n",
       "18    10                             Rural development\n",
       "53     9                             Urban development\n",
       "252    3                                   Rule of law"
      ]
     },
     "execution_count": 23,
     "metadata": {},
     "output_type": "execute_result"
    }
   ],
   "source": [
    "#create a new dataframe containing each project name and the corresponding code\n",
    "df_lookup = df_themes01[df_themes01['name'].notnull()]\n",
    "df_lookup.head(11)"
   ]
  },
  {
   "cell_type": "code",
   "execution_count": 24,
   "metadata": {},
   "outputs": [
    {
     "data": {
      "text/html": [
       "<div>\n",
       "<style>\n",
       "    .dataframe thead tr:only-child th {\n",
       "        text-align: right;\n",
       "    }\n",
       "\n",
       "    .dataframe thead th {\n",
       "        text-align: left;\n",
       "    }\n",
       "\n",
       "    .dataframe tbody tr th {\n",
       "        vertical-align: top;\n",
       "    }\n",
       "</style>\n",
       "<table border=\"1\" class=\"dataframe\">\n",
       "  <thead>\n",
       "    <tr style=\"text-align: right;\">\n",
       "      <th></th>\n",
       "      <th>code</th>\n",
       "      <th>name_x</th>\n",
       "      <th>countryshortname</th>\n",
       "      <th>id</th>\n",
       "      <th>name_y</th>\n",
       "    </tr>\n",
       "  </thead>\n",
       "  <tbody>\n",
       "    <tr>\n",
       "      <th>0</th>\n",
       "      <td>8</td>\n",
       "      <td>Human development</td>\n",
       "      <td>Ethiopia</td>\n",
       "      <td>P129828</td>\n",
       "      <td>Human development</td>\n",
       "    </tr>\n",
       "    <tr>\n",
       "      <th>1</th>\n",
       "      <td>8</td>\n",
       "      <td>NaN</td>\n",
       "      <td>China</td>\n",
       "      <td>P127033</td>\n",
       "      <td>Human development</td>\n",
       "    </tr>\n",
       "    <tr>\n",
       "      <th>2</th>\n",
       "      <td>8</td>\n",
       "      <td>Human development</td>\n",
       "      <td>Madagascar</td>\n",
       "      <td>P132616</td>\n",
       "      <td>Human development</td>\n",
       "    </tr>\n",
       "    <tr>\n",
       "      <th>3</th>\n",
       "      <td>8</td>\n",
       "      <td>Human development</td>\n",
       "      <td>Cambodia</td>\n",
       "      <td>P146271</td>\n",
       "      <td>Human development</td>\n",
       "    </tr>\n",
       "    <tr>\n",
       "      <th>4</th>\n",
       "      <td>8</td>\n",
       "      <td>Human development</td>\n",
       "      <td>Cambodia</td>\n",
       "      <td>P146271</td>\n",
       "      <td>Human development</td>\n",
       "    </tr>\n",
       "    <tr>\n",
       "      <th>5</th>\n",
       "      <td>8</td>\n",
       "      <td>Human development</td>\n",
       "      <td>Cambodia</td>\n",
       "      <td>P146271</td>\n",
       "      <td>Human development</td>\n",
       "    </tr>\n",
       "    <tr>\n",
       "      <th>6</th>\n",
       "      <td>8</td>\n",
       "      <td>Human development</td>\n",
       "      <td>Tajikistan</td>\n",
       "      <td>P146109</td>\n",
       "      <td>Human development</td>\n",
       "    </tr>\n",
       "    <tr>\n",
       "      <th>7</th>\n",
       "      <td>8</td>\n",
       "      <td>Human development</td>\n",
       "      <td>Tajikistan</td>\n",
       "      <td>P146109</td>\n",
       "      <td>Human development</td>\n",
       "    </tr>\n",
       "    <tr>\n",
       "      <th>8</th>\n",
       "      <td>8</td>\n",
       "      <td>Human development</td>\n",
       "      <td>Lao People's Democratic Republic</td>\n",
       "      <td>P143025</td>\n",
       "      <td>Human development</td>\n",
       "    </tr>\n",
       "    <tr>\n",
       "      <th>9</th>\n",
       "      <td>8</td>\n",
       "      <td>Human development</td>\n",
       "      <td>Angola</td>\n",
       "      <td>P122700</td>\n",
       "      <td>Human development</td>\n",
       "    </tr>\n",
       "  </tbody>\n",
       "</table>\n",
       "</div>"
      ],
      "text/plain": [
       "  code             name_x                  countryshortname       id  \\\n",
       "0    8  Human development                          Ethiopia  P129828   \n",
       "1    8                NaN                             China  P127033   \n",
       "2    8  Human development                        Madagascar  P132616   \n",
       "3    8  Human development                          Cambodia  P146271   \n",
       "4    8  Human development                          Cambodia  P146271   \n",
       "5    8  Human development                          Cambodia  P146271   \n",
       "6    8  Human development                        Tajikistan  P146109   \n",
       "7    8  Human development                        Tajikistan  P146109   \n",
       "8    8  Human development  Lao People's Democratic Republic  P143025   \n",
       "9    8  Human development                            Angola  P122700   \n",
       "\n",
       "              name_y  \n",
       "0  Human development  \n",
       "1  Human development  \n",
       "2  Human development  \n",
       "3  Human development  \n",
       "4  Human development  \n",
       "5  Human development  \n",
       "6  Human development  \n",
       "7  Human development  \n",
       "8  Human development  \n",
       "9  Human development  "
      ]
     },
     "execution_count": 24,
     "metadata": {},
     "output_type": "execute_result"
    }
   ],
   "source": [
    "#merge the original dataframe with our new dataframe, creating a new name column without missing values\n",
    "df_corrected = df_themes_copy.merge(df_lookup, on='code')\n",
    "\n",
    "df_corrected.head(10)"
   ]
  },
  {
   "cell_type": "code",
   "execution_count": 25,
   "metadata": {},
   "outputs": [
    {
     "data": {
      "text/html": [
       "<div>\n",
       "<style>\n",
       "    .dataframe thead tr:only-child th {\n",
       "        text-align: right;\n",
       "    }\n",
       "\n",
       "    .dataframe thead th {\n",
       "        text-align: left;\n",
       "    }\n",
       "\n",
       "    .dataframe tbody tr th {\n",
       "        vertical-align: top;\n",
       "    }\n",
       "</style>\n",
       "<table border=\"1\" class=\"dataframe\">\n",
       "  <thead>\n",
       "    <tr style=\"text-align: right;\">\n",
       "      <th></th>\n",
       "      <th>code</th>\n",
       "      <th>name_x</th>\n",
       "      <th>countryshortname</th>\n",
       "      <th>id</th>\n",
       "      <th>name_y</th>\n",
       "    </tr>\n",
       "  </thead>\n",
       "  <tbody>\n",
       "    <tr>\n",
       "      <th>0</th>\n",
       "      <td>8</td>\n",
       "      <td>Human development</td>\n",
       "      <td>Ethiopia</td>\n",
       "      <td>P129828</td>\n",
       "      <td>Human development</td>\n",
       "    </tr>\n",
       "    <tr>\n",
       "      <th>1</th>\n",
       "      <td>8</td>\n",
       "      <td>NaN</td>\n",
       "      <td>China</td>\n",
       "      <td>P127033</td>\n",
       "      <td>Human development</td>\n",
       "    </tr>\n",
       "    <tr>\n",
       "      <th>2</th>\n",
       "      <td>8</td>\n",
       "      <td>Human development</td>\n",
       "      <td>Madagascar</td>\n",
       "      <td>P132616</td>\n",
       "      <td>Human development</td>\n",
       "    </tr>\n",
       "    <tr>\n",
       "      <th>3</th>\n",
       "      <td>8</td>\n",
       "      <td>Human development</td>\n",
       "      <td>Cambodia</td>\n",
       "      <td>P146271</td>\n",
       "      <td>Human development</td>\n",
       "    </tr>\n",
       "    <tr>\n",
       "      <th>6</th>\n",
       "      <td>8</td>\n",
       "      <td>Human development</td>\n",
       "      <td>Tajikistan</td>\n",
       "      <td>P146109</td>\n",
       "      <td>Human development</td>\n",
       "    </tr>\n",
       "    <tr>\n",
       "      <th>8</th>\n",
       "      <td>8</td>\n",
       "      <td>Human development</td>\n",
       "      <td>Lao People's Democratic Republic</td>\n",
       "      <td>P143025</td>\n",
       "      <td>Human development</td>\n",
       "    </tr>\n",
       "    <tr>\n",
       "      <th>9</th>\n",
       "      <td>8</td>\n",
       "      <td>Human development</td>\n",
       "      <td>Angola</td>\n",
       "      <td>P122700</td>\n",
       "      <td>Human development</td>\n",
       "    </tr>\n",
       "    <tr>\n",
       "      <th>10</th>\n",
       "      <td>8</td>\n",
       "      <td>Human development</td>\n",
       "      <td>Bangladesh</td>\n",
       "      <td>P145118</td>\n",
       "      <td>Human development</td>\n",
       "    </tr>\n",
       "    <tr>\n",
       "      <th>11</th>\n",
       "      <td>8</td>\n",
       "      <td>Human development</td>\n",
       "      <td>Congo, Republic of</td>\n",
       "      <td>P128628</td>\n",
       "      <td>Human development</td>\n",
       "    </tr>\n",
       "    <tr>\n",
       "      <th>12</th>\n",
       "      <td>8</td>\n",
       "      <td>NaN</td>\n",
       "      <td>Sao Tome and Principe</td>\n",
       "      <td>P098847</td>\n",
       "      <td>Human development</td>\n",
       "    </tr>\n",
       "  </tbody>\n",
       "</table>\n",
       "</div>"
      ],
      "text/plain": [
       "   code             name_x                  countryshortname       id  \\\n",
       "0     8  Human development                          Ethiopia  P129828   \n",
       "1     8                NaN                             China  P127033   \n",
       "2     8  Human development                        Madagascar  P132616   \n",
       "3     8  Human development                          Cambodia  P146271   \n",
       "6     8  Human development                        Tajikistan  P146109   \n",
       "8     8  Human development  Lao People's Democratic Republic  P143025   \n",
       "9     8  Human development                            Angola  P122700   \n",
       "10    8  Human development                        Bangladesh  P145118   \n",
       "11    8  Human development                Congo, Republic of  P128628   \n",
       "12    8                NaN             Sao Tome and Principe  P098847   \n",
       "\n",
       "               name_y  \n",
       "0   Human development  \n",
       "1   Human development  \n",
       "2   Human development  \n",
       "3   Human development  \n",
       "6   Human development  \n",
       "8   Human development  \n",
       "9   Human development  \n",
       "10  Human development  \n",
       "11  Human development  \n",
       "12  Human development  "
      ]
     },
     "execution_count": 25,
     "metadata": {},
     "output_type": "execute_result"
    }
   ],
   "source": [
    "#drop duplicate values for projects that have the same id and code\n",
    "df_corrected = df_corrected.drop_duplicates(['id', 'code', 'name_y'], keep='first')\n",
    "df_corrected.head(10)"
   ]
  },
  {
   "cell_type": "code",
   "execution_count": 26,
   "metadata": {
    "collapsed": true
   },
   "outputs": [],
   "source": [
    "#set our corrected dataframe to code and project name with out missing values, name_y\n",
    "df_corrected = df_corrected[['code','name_y']]\n"
   ]
  },
  {
   "cell_type": "markdown",
   "metadata": {},
   "source": [
    "## Answer 3"
   ]
  },
  {
   "cell_type": "markdown",
   "metadata": {},
   "source": [
    "### Previous answer"
   ]
  },
  {
   "cell_type": "code",
   "execution_count": 27,
   "metadata": {},
   "outputs": [
    {
     "name": "stdout",
     "output_type": "stream",
     "text": [
      "Top 10 Major Project Themes: \n"
     ]
    },
    {
     "data": {
      "text/plain": [
       "name\n",
       "Environment and natural resources management    157\n",
       "Rural development                               148\n",
       "Public sector governance                        140\n",
       "Human development                               127\n",
       "Financial and private sector development        119\n",
       "Social protection and risk management           116\n",
       "Social dev/gender/inclusion                     115\n",
       "Trade and integration                            61\n",
       "Urban development                                40\n",
       "Economic management                              33\n",
       "dtype: int64"
      ]
     },
     "execution_count": 27,
     "metadata": {},
     "output_type": "execute_result"
    }
   ],
   "source": [
    "print('Top 10 Major Project Themes: ')\n",
    "top_themes"
   ]
  },
  {
   "cell_type": "markdown",
   "metadata": {},
   "source": [
    "We can see that after removing duplicate entries and filling in missing names that several of the themes have switched places from our answer in problem 2."
   ]
  },
  {
   "cell_type": "markdown",
   "metadata": {},
   "source": [
    "### Revised Answer"
   ]
  },
  {
   "cell_type": "code",
   "execution_count": 28,
   "metadata": {
    "scrolled": true
   },
   "outputs": [
    {
     "name": "stdout",
     "output_type": "stream",
     "text": [
      "Top 10 Major Project Themes\n"
     ]
    },
    {
     "data": {
      "text/plain": [
       "Environment and natural resources management    157\n",
       "Rural development                               148\n",
       "Public sector governance                        140\n",
       "Human development                               128\n",
       "Financial and private sector development        119\n",
       "Social protection and risk management           116\n",
       "Social dev/gender/inclusion                     114\n",
       "Trade and integration                            61\n",
       "Urban development                                40\n",
       "Economic management                              33\n",
       "Name: name_y, dtype: int64"
      ]
     },
     "execution_count": 28,
     "metadata": {},
     "output_type": "execute_result"
    }
   ],
   "source": [
    "print('Top 10 Major Project Themes')\n",
    "df_corrected.name_y.value_counts().head(10)"
   ]
  },
  {
   "cell_type": "markdown",
   "metadata": {},
   "source": [
    "The results are indeed different. Human development increased by 1 to 128 and Social dev/gender/includion decreased by 1. ffill may have been an \"easier\" solution, but by merging a dataframe with the corrected pairs of codes and names, you avoid errors as the fill function moves through the data.\n"
   ]
  }
 ],
 "metadata": {
  "kernelspec": {
   "display_name": "Python 3",
   "language": "python",
   "name": "python3"
  },
  "language_info": {
   "codemirror_mode": {
    "name": "ipython",
    "version": 3
   },
   "file_extension": ".py",
   "mimetype": "text/x-python",
   "name": "python",
   "nbconvert_exporter": "python",
   "pygments_lexer": "ipython3",
   "version": "3.6.0"
  }
 },
 "nbformat": 4,
 "nbformat_minor": 2
}
